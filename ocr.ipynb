{
  "nbformat": 4,
  "nbformat_minor": 0,
  "metadata": {
    "colab": {
      "provenance": []
    },
    "kernelspec": {
      "name": "python3",
      "display_name": "Python 3"
    }
  },
  "cells": [
    {
      "cell_type": "code",
      "metadata": {
        "id": "I86tgLoXN-fN"
      },
      "source": [
        "import json\n",
        "import requests\n",
        "from base64 import b64encode\n",
        "from IPython.display import Image\n"
      ],
      "execution_count": null,
      "outputs": []
    },
    {
      "cell_type": "code",
      "metadata": {
        "id": "j1x8BO5AORgS"
      },
      "source": [
        "def makeImageData(imgpath):\n",
        "    img_req = None\n",
        "    with open(imgpath, 'rb') as f:\n",
        "        ctxt = b64encode(f.read()).decode()\n",
        "        img_req = {\n",
        "            'image': {\n",
        "                'content': ctxt\n",
        "            },\n",
        "            'features': [{\n",
        "                'type': 'DOCUMENT_TEXT_DETECTION',\n",
        "                'maxResults': 1\n",
        "            }]\n",
        "        }\n",
        "\n",
        "    return json.dumps({\"requests\": img_req}).encode()"
      ],
      "execution_count": null,
      "outputs": []
    },
    {
      "cell_type": "code",
      "metadata": {
        "id": "5PH_sr9TN7eS"
      },
      "source": [
        "def requestOCR(url, api_key, imgpath):\n",
        "  imgdata = makeImageData(imgpath)\n",
        "  response = requests.post(ENDPOINT_URL,\n",
        "                           data = imgdata,\n",
        "                           params = {'key': api_key},\n",
        "                           headers = {'Content-Type': 'application/json'})\n",
        "  return response"
      ],
      "execution_count": null,
      "outputs": []
    },
    {
      "cell_type": "code",
      "metadata": {
        "id": "ziTG4b1-N0oU"
      },
      "source": [
        "ENDPOINT_URL = 'https://vision.googleapis.com/v1/images:annotate'\n",
        "#api_key = Enter you google vision api key\n"
      ],
      "execution_count": null,
      "outputs": []
    },
    {
      "cell_type": "code",
      "source": [
        "def get_text(path):\n",
        "  result = requestOCR(ENDPOINT_URL, api_key, path)\n",
        "  if result.status_code != 200 or result.json().get('error'):\n",
        "    print (\"Error\")\n",
        "  else:\n",
        "    result = result.json()['responses'][0]['textAnnotations'][0][\"description\"]\n",
        "    return ' '.join(result.splitlines())"
      ],
      "metadata": {
        "id": "yklPKEnykvds"
      },
      "execution_count": null,
      "outputs": []
    },
    {
      "cell_type": "code",
      "source": [
        "def get_word_set(text):\n",
        "    words = text.split(' ')\n",
        "    return set(words)"
      ],
      "metadata": {
        "id": "mvhgBpY2-eCA"
      },
      "execution_count": null,
      "outputs": []
    },
    {
      "cell_type": "code",
      "source": [
        "def get_answers(answer_path, empty_path):\n",
        "  text1 = get_text(answer_path)\n",
        "  textset1 = get_word_set(text1)\n",
        "\n",
        "  text2 = get_text(empty_path)\n",
        "  textset2 = get_word_set(text2)\n",
        "\n",
        "  difference = textset1 - textset2\n",
        "  print(difference)"
      ],
      "metadata": {
        "id": "ouONka1s97d_"
      },
      "execution_count": null,
      "outputs": []
    },
    {
      "cell_type": "code",
      "source": [
        "get_answers('ans.jpeg', 'em.jpg')"
      ],
      "metadata": {
        "colab": {
          "base_uri": "https://localhost:8080/"
        },
        "id": "-yho74MhAzLI",
        "outputId": "67bdf0f1-4fad-4e00-8511-4518947afde5"
      },
      "execution_count": null,
      "outputs": [
        {
          "output_type": "stream",
          "name": "stdout",
          "text": [
            "{'ans15.', 'ans4', '10', 'ans14', 'ans5', 'especially', 'ans2', '13', 'ans9', 'ans3', 'ans8', 'ans6', '11', 'ans7', 'ans1', 'ans'}\n"
          ]
        }
      ]
    }
  ]
}